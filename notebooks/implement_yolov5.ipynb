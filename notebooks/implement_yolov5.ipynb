{
 "cells": [
  {
   "cell_type": "code",
   "execution_count": 6,
   "id": "neural-penny",
   "metadata": {},
   "outputs": [],
   "source": [
    "import torch\n",
    "from torch.utils.data import DataLoader, Dataset\n",
    "import cv2\n",
    "import torchvision\n",
    "import os\n",
    "import glob\n"
   ]
  },
  {
   "cell_type": "markdown",
   "id": "german-syntax",
   "metadata": {},
   "source": [
    "# SET CONSTANTS"
   ]
  },
  {
   "cell_type": "code",
   "execution_count": 23,
   "id": "advisory-rapid",
   "metadata": {},
   "outputs": [],
   "source": [
    "DATA_PATH = r\"../data/processed/\"\n",
    "PATH_TRAIN_IMAGES = DATA_PATH + \"images/train/\"\n",
    "PATH_VALID_IMAGES = DATA_PATH + \"images/valid/\"\n",
    "PATH_TRAIN_LABELS = DATA_PATH + \"labels/train/\"\n",
    "PATH_VALID_LABELS = DATA_PATH + \"labels/valid/\""
   ]
  },
  {
   "cell_type": "markdown",
   "id": "fancy-juice",
   "metadata": {},
   "source": [
    "# Class Dataset"
   ]
  },
  {
   "cell_type": "code",
   "execution_count": 61,
   "id": "tutorial-lloyd",
   "metadata": {},
   "outputs": [],
   "source": [
    "class TrainDroneData(Dataset):\n",
    "    def __init__(self,transforms=None):\n",
    "        super(Dataset).__init__()\n",
    "        self.transforms = transforms\n",
    "        self.list_imgs = os.listdir(PATH_TRAIN_IMAGES)\n",
    "        self.list_labels = os.listdir(PATH_TRAIN_LABELS)\n",
    "        \n",
    "        \n",
    "    def __getitem__(self, idx):\n",
    "        img = cv2.imread(PATH_TRAIN_IMAGES + self.list_imgs[idx])\n",
    "        with open(PATH_TRAIN_LABELS + self.list_labels[0], 'r') as f:\n",
    "            data = f.readline()\n",
    "            obj_class = data[0]\n",
    "            bboxes = data[2:].split(' ')\n",
    "            bboxes[-1] = bboxes[-1][:len(bboxes[-1]) - 1]\n",
    "        print(obj_class, bboxes)\n",
    "        return img, \n",
    "        \n",
    "        \n",
    "        \n",
    "    def __len__(self):\n",
    "        return len(self.list_imgs)"
   ]
  },
  {
   "cell_type": "code",
   "execution_count": 32,
   "id": "parallel-portfolio",
   "metadata": {},
   "outputs": [],
   "source": [
    "class ValidDroneData(Dataset):\n",
    "    def __init__(self,transforms=None):\n",
    "        super(Dataset).__init__()\n",
    "        self.transforms = transforms\n",
    "        \n",
    "        \n",
    "    def __getitem__(self, idx):\n",
    "        pass\n",
    "        \n",
    "    def __len__(self):\n",
    "        pass"
   ]
  },
  {
   "cell_type": "markdown",
   "id": "consolidated-carter",
   "metadata": {},
   "source": [
    "# Class Model"
   ]
  },
  {
   "cell_type": "code",
   "execution_count": 33,
   "id": "wrapped-australia",
   "metadata": {},
   "outputs": [],
   "source": [
    "class YoloModel(torch.nn.Module):\n",
    "    def __init__(self):\n",
    "        super(torch.nn.Module).__init__()\n",
    "        "
   ]
  },
  {
   "cell_type": "code",
   "execution_count": 62,
   "id": "fifteen-gasoline",
   "metadata": {},
   "outputs": [],
   "source": [
    "train_df = TrainDroneData()"
   ]
  },
  {
   "cell_type": "code",
   "execution_count": 63,
   "id": "stainless-selling",
   "metadata": {},
   "outputs": [
    {
     "name": "stdout",
     "output_type": "stream",
     "text": [
      "0 ['0.2671875', '0.25078125', '0.034375', '0.0390625']\n"
     ]
    }
   ],
   "source": [
    "train_df.__getitem__(0)"
   ]
  }
 ],
 "metadata": {
  "kernelspec": {
   "display_name": "Python 3",
   "language": "python",
   "name": "python3"
  },
  "language_info": {
   "codemirror_mode": {
    "name": "ipython",
    "version": 3
   },
   "file_extension": ".py",
   "mimetype": "text/x-python",
   "name": "python",
   "nbconvert_exporter": "python",
   "pygments_lexer": "ipython3",
   "version": "3.7.6"
  }
 },
 "nbformat": 4,
 "nbformat_minor": 5
}
