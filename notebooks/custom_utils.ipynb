{
  "nbformat": 4,
  "nbformat_minor": 0,
  "metadata": {
    "colab": {
      "name": "custom_utils.ipynb",
      "provenance": []
    },
    "kernelspec": {
      "name": "python3",
      "display_name": "Python 3"
    },
    "language_info": {
      "name": "python"
    }
  },
  "cells": [
    {
      "cell_type": "code",
      "source": [
        "import os\n",
        "import glob\n",
        "import shutil"
      ],
      "metadata": {
        "id": "TjP4d4Zok6CW"
      },
      "execution_count": null,
      "outputs": []
    },
    {
      "cell_type": "code",
      "source": [
        "from google.colab import drive\n",
        "drive.mount('/content/drive')"
      ],
      "metadata": {
        "colab": {
          "base_uri": "https://localhost:8080/"
        },
        "id": "akzlwFZHkZWO",
        "outputId": "c5f2ffea-e316-417a-c582-f2aac47e08aa"
      },
      "execution_count": null,
      "outputs": [
        {
          "output_type": "stream",
          "name": "stdout",
          "text": [
            "Mounted at /content/drive\n"
          ]
        }
      ]
    },
    {
      "cell_type": "code",
      "source": [
        "\n",
        "def move_imgs_to_folder(from_path):\n",
        "  folders_data = os.listdir(from_path)\n",
        "  for file in folders_data:\n",
        "    if file == \"images\" or file == \"labels\":\n",
        "      continue\n",
        "    else:\n",
        "      expansion = file[-3:]\n",
        "      print(file)\n",
        "      if (expansion == \"txt\"):\n",
        "        shutil.move(from_path + file, from_path + \"labels/\" + file)\n",
        "      else:\n",
        "        shutil.move(from_path + file, from_path + \"images/\" + file)\n",
        "  print(\"Done!\")"
      ],
      "metadata": {
        "id": "zwEKYHUikalX"
      },
      "execution_count": null,
      "outputs": []
    },
    {
      "cell_type": "code",
      "source": [
        "def custom_train_valid_split(path, threshold=0.25):\n",
        "  img_files = os.listdir(path + \"images/\")\n",
        "#  print(img_files)\n",
        "  num_files = len(img_files)\n",
        "  count_valid = round(num_files * threshold)\n",
        "  k = 0\n",
        "  for file in img_files:\n",
        "    if (file == \"valid\" or file == \"train\"):\n",
        "      continue\n",
        "    file_name = file[:-4]\n",
        "    print(file_name)\n",
        "    if k < count_valid:\n",
        "      shutil.move(path + \"images/\"+ file_name + \".jpg\", path + \"images/\"  + \"valid/\"+  file_name + \".jpg\")\n",
        "      shutil.move(path + \"labels/\"+ file_name + \".txt\", path + \"labels/\"  + \"valid/\"+  file_name + \".txt\")\n",
        "      k+=1\n",
        "    else:\n",
        "      shutil.move(path + \"images/\"+ file_name + \".jpg\", path + \"images/\"  + \"train/\"+  file_name + \".jpg\")\n",
        "      shutil.move(path + \"labels/\"+ file_name + \".txt\", path + \"labels/\"  + \"train/\"+  file_name + \".txt\")\n",
        "\n",
        "  print(\"Done\")"
      ],
      "metadata": {
        "id": "R6PmhPlFsAuI"
      },
      "execution_count": null,
      "outputs": []
    },
    {
      "cell_type": "code",
      "source": [
        "from_path = \"/content/drive/MyDrive/Кружок_по_МО/Projects/DroneDetection/DataDroneDetection/ch02_20200605113754/\"\n",
        "move_imgs_to_folder(from_path)"
      ],
      "metadata": {
        "colab": {
          "base_uri": "https://localhost:8080/"
        },
        "id": "tF6-ofAXk3iW",
        "outputId": "6cdef35e-2743-423a-aad6-d1f3b0718c57"
      },
      "execution_count": null,
      "outputs": [
        {
          "output_type": "stream",
          "name": "stdout",
          "text": [
            "Done!\n"
          ]
        }
      ]
    },
    {
      "cell_type": "code",
      "source": [
        "custom_train_valid_split(\"/content/drive/MyDrive/Кружок_по_МО/Projects/DroneDetection/DataDroneDetection/ch02_20200605113754/\")"
      ],
      "metadata": {
        "colab": {
          "base_uri": "https://localhost:8080/"
        },
        "id": "uqltmFv6ul25",
        "outputId": "75b66491-3cfa-4db2-9c43-b10996649f90"
      },
      "execution_count": null,
      "outputs": [
        {
          "output_type": "stream",
          "name": "stdout",
          "text": [
            "['valid', 'train']\n",
            "Done\n"
          ]
        }
      ]
    },
    {
      "cell_type": "code",
      "source": [
        "def write_path(path, folder_name):\n",
        "  train_path = path + folder_name  + \"/train_\" + folder_name + \".txt\"\n",
        "  train_path_folder = path + folder_name + \"/images\"  + \"/train/\"\n",
        "  valid_path = path + folder_name + \"/valid_\" + folder_name + \".txt\"\n",
        "  valid_path_folder = path + folder_name + \"/images\"  + \"/valid/\"\n",
        "  print(train_path)\n",
        "  with open(train_path, 'w') as f:\n",
        "    files = os.listdir(train_path_folder)\n",
        "    for file in files:\n",
        "      f.write(train_path_folder + file + \"\\n\")\n",
        "\n",
        "  with open(valid_path, 'w') as f:\n",
        "    files = os.listdir(valid_path_folder)\n",
        "    for file in files:\n",
        "      f.write(valid_path_folder + file + \"\\n\")"
      ],
      "metadata": {
        "id": "-gk4YjGo_zrA"
      },
      "execution_count": null,
      "outputs": []
    },
    {
      "cell_type": "code",
      "source": [
        "write_path(\"/content/drive/MyDrive/Кружок_по_МО/Projects/DroneDetection/DataDroneDetection/\", \"00_01_52_to_00_01_58\")"
      ],
      "metadata": {
        "colab": {
          "base_uri": "https://localhost:8080/"
        },
        "id": "MztFt367GZ0D",
        "outputId": "a2fa43ba-efd0-440d-c038-35d8019d01c3"
      },
      "execution_count": null,
      "outputs": [
        {
          "output_type": "stream",
          "name": "stdout",
          "text": [
            "/content/drive/MyDrive/Кружок_по_МО/Projects/DroneDetection/DataDroneDetection/00_01_52_to_00_01_58/train_00_01_52_to_00_01_58.txt\n"
          ]
        }
      ]
    },
    {
      "cell_type": "code",
      "source": [
        "def sorted_imgs(path, folder_name):\n",
        "  train_path = path + folder_name  + \"/train_\" + folder_name + \".txt\"\n",
        "  valid_path = path + folder_name + \"/valid_\" + folder_name + \".txt\"\n",
        "  with open(train_path, 'r+') as f:\n",
        "    train_files = f.readlines()\n",
        "    train_files.sort()\n",
        "  with open(train_path, 'w') as f:\n",
        "    for file in train_files:\n",
        "      f.write(file)\n",
        "\n",
        "  with open(valid_path, 'r+') as f:\n",
        "    valid_files = f.readlines()\n",
        "    valid_files.sort()\n",
        "    for file in valid_files:\n",
        "      f.write(file)\n",
        "\n",
        "  with open(valid_path, 'w') as f:\n",
        "    for file in valid_files:\n",
        "      f.write(file)"
      ],
      "metadata": {
        "id": "9iJxw3FrGxP-"
      },
      "execution_count": null,
      "outputs": []
    },
    {
      "cell_type": "code",
      "source": [
        "sorted_imgs(\"/content/drive/MyDrive/Кружок_по_МО/Projects/DroneDetection/DataDroneDetection/\", \"ch02_20200605113754\")"
      ],
      "metadata": {
        "id": "0WSTwPyoemo0"
      },
      "execution_count": null,
      "outputs": []
    }
  ]
}